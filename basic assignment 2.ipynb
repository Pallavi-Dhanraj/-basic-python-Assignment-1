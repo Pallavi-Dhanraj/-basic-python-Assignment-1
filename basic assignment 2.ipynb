{
 "cells": [
  {
   "cell_type": "raw",
   "metadata": {},
   "source": [
    "Q1)What are the two values of the Boolean data type? How do you write them?\n",
    "sol) The two values of the Boolean data type are true and fales.we write them as True and False."
   ]
  },
  {
   "cell_type": "raw",
   "metadata": {},
   "source": [
    "Q2) What are the three different types of Boolean operators?\n",
    "sol)The three different types of Boolean operators are:\n",
    "   i)AND\n",
    "   ii)OR\n",
    "   iii)NOT"
   ]
  },
  {
   "cell_type": "raw",
   "metadata": {},
   "source": [
    "Q3)Make a list of each Boolean operator truth tables (i.e. every possible combination of Boolean\n",
    "   values for the operator and what it evaluate ).\n",
    "sol) Basic Truth Table:\n",
    "     \n",
    "       A\tB\tA AND B\n",
    "       T\tT\t  T\n",
    "       T\tF\t  F\n",
    "       F\tT\t  F\n",
    "       F\tF\t  F\n",
    "\n",
    "       A\tB\tA OR B\n",
    "       T\tT\t  T\n",
    "       T\tF\t  T\n",
    "       F\tT\t  T\n",
    "       F\tF\t  F\n",
    "\n",
    "       A\t NOT A\n",
    "       T\t  F\n",
    "       F\t  T\n",
    "\n",
    "\n",
    "     \n",
    "   "
   ]
  },
  {
   "cell_type": "raw",
   "metadata": {},
   "source": [
    "Q4)What are the values of the following expressions?\n",
    "i)(5 > 4) and (3 == 5) : False\n",
    "ii)not (5 > 4) : False\n",
    "iii)(5 > 4) or (3 == 5) :True\n",
    "iv)not ((5 > 4) or (3 == 5)) : False\n",
    "v)(True and True) and (True == False) :False\n",
    "vi)(not False) or (not True):True"
   ]
  },
  {
   "cell_type": "raw",
   "metadata": {},
   "source": [
    "Q5)What are the six comparison operators?\n",
    "sol)i)equal to(==)\n",
    "    ii)greater than(>)\n",
    "    iii)less than(<)\n",
    "    iv)equal to or greater than (>=)\n",
    "    v)less than or equal to(<=)\n",
    "    vi)not equal (!=)"
   ]
  },
  {
   "cell_type": "raw",
   "metadata": {},
   "source": [
    "Q6)How do you tell the difference between the equal to and assignment operators?Describe a condition and when you would use one.\n",
    "sol)The “=” is an assignment operator is used to assign the value on the right to the variable on the left. The '==' operator       checks whether the two given operands are equal or not. If so, it returns true. Otherwise it returns false.\n",
    "    \n",
    "    Assigment Opertor Example:\n",
    "\n",
    "Input:    a=10\n",
    "          b=20\n",
    "         print(\"value of 'a' is \",a)\n",
    "         print(\"value of 'b' is \", b)\n",
    "    \n",
    "output: value of 'a' is  10\n",
    "         value of 'b' is  20\n",
    "     \n",
    "     Equal operator Example:\n",
    "\n",
    "Input:   a==a\n",
    "        if a is True:\n",
    "           print('its a correct value')\n",
    "        else:\n",
    "           print(\"its incorrect value\")\n",
    "           \n",
    " Output: its a correct value\n",
    "\n",
    "    "
   ]
  },
  {
   "cell_type": "raw",
   "metadata": {},
   "source": [
    "Q7)Identify the three blocks in this code:\n",
    "spam = 0\n",
    "if spam == 10:\n",
    "print('eggs')\n",
    "if spam > 5:\n",
    "print('bacon')\n",
    "else:\n",
    "print('ham')\n",
    "print('spam')\n",
    "print('spam')\n",
    "\n",
    "sol) First Block:if spam == 10:\n",
    "                   print('eggs')\n",
    "     Second Block: if spam > 5:\n",
    "                     print('bacon')\n",
    "     Third Block: else:\n",
    "                    print('ham')\n",
    "                    print('spam')\n",
    "                    print('spam')"
   ]
  },
  {
   "cell_type": "raw",
   "metadata": {},
   "source": [
    "Q8)Write code that prints Hello if 1 is stored in spam, prints Howdy if 2 is stored in spam, and prints Greetings! if anything      else is stored in spam.\n",
    "sol)print(\"value of spam is \")\n",
    "    spam=int(input()) \n",
    "    if spam == 1:\n",
    "       print(\"Hello\")\n",
    "    elif spam==2:\n",
    "       print(\"Howdy\")\n",
    "    else:\n",
    "       print(\"Greeting\")\n"
   ]
  },
  {
   "cell_type": "raw",
   "metadata": {},
   "source": [
    "Q9)If your programme is stuck in an endless loop, what keys you’ll press?\n",
    "sol)An infinite loop occurs when a program keeps executing within one loop, never leaving it. To exit out of infinite loops on      the command line, press CTRL + C . Save the program and run it."
   ]
  },
  {
   "cell_type": "raw",
   "metadata": {},
   "source": [
    "Q10)How can you tell the difference between break and continue?\n",
    "sol)Break statements:Break statements used to exit or “break” a for or while conditional loop. When the loop ends, the code                          picks up from and executes the next line immediately following the loop that was broken. \n",
    "    \n",
    "    Example: numbers = (1, 2, 3)\n",
    "             num_sum = 0\n",
    "            count = 0\n",
    "            for x in numbers:\n",
    "            num_sum = num_sum + x\n",
    "           count = count + 1\n",
    "           print(count)\n",
    "           if count == 2:\n",
    "                 break\n",
    "      In this example, the loop will break after the count is equal to 2.\n",
    "      \n",
    "    continue statement : The continue statement is used to skip code within a loop for certain iterations of the loop. After                              the code is skipped,the loop continues where it left off.\n",
    "    \n",
    "    Example:  for x in range(4):\n",
    "               if (x==2):\n",
    "                 continue\n",
    "               print(x)\n",
    "    This example would print all numbers from 0-4 except 2.\n",
    "\n",
    "\n"
   ]
  },
  {
   "cell_type": "raw",
   "metadata": {},
   "source": [
    "Q11). In a for loop, what is the difference between range(10), range(0, 10), and range(0, 10, 1)?\n",
    "sol) In all we will get a series of numbers that starts from  0 and ends at 9 ."
   ]
  },
  {
   "cell_type": "raw",
   "metadata": {},
   "source": [
    "Q12)Write a short program that prints the numbers 1 to 10 using a for loop. Then write an equivalent program that prints the         numbers 1 to 10 using a while loop.\n",
    "sol) Using For Loop: for i in range(1,11):\n",
    "                          print(i)\n",
    "     \n",
    "     Using While Loop: i=1\n",
    "                       while (i <=10):\n",
    "                       print(i)\n",
    "                       i=i+1"
   ]
  },
  {
   "cell_type": "raw",
   "metadata": {},
   "source": [
    "Q13) If you had a function named bacon() inside a module named spam, how would you call it after importing spam?\n",
    "sol) This function can be called with spam. bacon()."
   ]
  }
 ],
 "metadata": {
  "kernelspec": {
   "display_name": "Python 3",
   "language": "python",
   "name": "python3"
  },
  "language_info": {
   "codemirror_mode": {
    "name": "ipython",
    "version": 3
   },
   "file_extension": ".py",
   "mimetype": "text/x-python",
   "name": "python",
   "nbconvert_exporter": "python",
   "pygments_lexer": "ipython3",
   "version": "3.8.5"
  }
 },
 "nbformat": 4,
 "nbformat_minor": 4
}
